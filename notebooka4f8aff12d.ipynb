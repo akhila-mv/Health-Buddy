{
 "cells": [
  {
   "cell_type": "code",
   "execution_count": 2,
   "metadata": {
    "_cell_guid": "b1076dfc-b9ad-4769-8c92-a6c4dae69d19",
    "_uuid": "8f2839f25d086af736a60e9eeb907d3b93b6e0e5",
    "execution": {
     "iopub.execute_input": "2024-12-23T09:57:32.707570Z",
     "iopub.status.busy": "2024-12-23T09:57:32.707269Z",
     "iopub.status.idle": "2024-12-23T09:57:33.096054Z",
     "shell.execute_reply": "2024-12-23T09:57:33.095413Z",
     "shell.execute_reply.started": "2024-12-23T09:57:32.707549Z"
    }
   },
   "outputs": [],
   "source": [
    "import os\n",
    "import zipfile\n",
    "import numpy as np\n",
    "import tensorflow as tf\n",
    "from tensorflow.keras.preprocessing.image import ImageDataGenerator\n",
    "from tensorflow.keras import layers, models\n",
    "from sklearn.model_selection import train_test_split\n",
    "import matplotlib.pyplot as plt"
   ]
  },
  {
   "cell_type": "code",
   "execution_count": 3,
   "metadata": {
    "execution": {
     "iopub.execute_input": "2024-12-23T09:57:34.469275Z",
     "iopub.status.busy": "2024-12-23T09:57:34.468722Z",
     "iopub.status.idle": "2024-12-23T10:01:20.487469Z",
     "shell.execute_reply": "2024-12-23T10:01:20.486546Z",
     "shell.execute_reply.started": "2024-12-23T09:57:34.469245Z"
    }
   },
   "outputs": [
    {
     "name": "stdout",
     "output_type": "stream",
     "text": [
      "Downloading data from http://data.vision.ee.ethz.ch/cvl/food-101.tar.gz\n",
      "\u001b[1m4996278331/4996278331\u001b[0m \u001b[32m━━━━━━━━━━━━━━━━━━━━\u001b[0m\u001b[37m\u001b[0m \u001b[1m165s\u001b[0m 0us/step\n"
     ]
    }
   ],
   "source": [
    "# Step 1: Dataset Preparation\n",
    "# Download and extract the Food-101 dataset\n",
    "url = 'http://data.vision.ee.ethz.ch/cvl/food-101.tar.gz'\n",
    "dataset_path = tf.keras.utils.get_file('food-101.tar.gz', origin=url, extract=True)\n",
    "base_dir = os.path.join(os.path.dirname(dataset_path), 'food-101', 'images')"
   ]
  },
  {
   "cell_type": "code",
   "execution_count": 4,
   "metadata": {
    "execution": {
     "iopub.execute_input": "2024-12-23T10:01:20.488946Z",
     "iopub.status.busy": "2024-12-23T10:01:20.488694Z",
     "iopub.status.idle": "2024-12-23T10:01:20.492627Z",
     "shell.execute_reply": "2024-12-23T10:01:20.491899Z",
     "shell.execute_reply.started": "2024-12-23T10:01:20.488926Z"
    }
   },
   "outputs": [],
   "source": [
    "# Image Parameters\n",
    "IMG_SIZE = (224, 224)\n",
    "BATCH_SIZE = 32"
   ]
  },
  {
   "cell_type": "code",
   "execution_count": 5,
   "metadata": {
    "execution": {
     "iopub.execute_input": "2024-12-23T10:01:20.494563Z",
     "iopub.status.busy": "2024-12-23T10:01:20.494300Z",
     "iopub.status.idle": "2024-12-23T10:01:20.796606Z",
     "shell.execute_reply": "2024-12-23T10:01:20.795688Z",
     "shell.execute_reply.started": "2024-12-23T10:01:20.494543Z"
    }
   },
   "outputs": [],
   "source": [
    "# Data Augmentation and Preprocessing\n",
    "train_datagen = ImageDataGenerator(\n",
    "    rescale=1.0/255,\n",
    "    rotation_range=20,\n",
    "    width_shift_range=0.2,\n",
    "    height_shift_range=0.2,\n",
    "    shear_range=0.2,\n",
    "    zoom_range=0.2,\n",
    "    horizontal_flip=True,\n",
    "    validation_split=0.2  # 20% for validation\n",
    ")"
   ]
  },
  {
   "cell_type": "code",
   "execution_count": 6,
   "metadata": {
    "execution": {
     "iopub.execute_input": "2024-12-23T10:01:20.798364Z",
     "iopub.status.busy": "2024-12-23T10:01:20.797864Z",
     "iopub.status.idle": "2024-12-23T10:01:22.642872Z",
     "shell.execute_reply": "2024-12-23T10:01:22.642232Z",
     "shell.execute_reply.started": "2024-12-23T10:01:20.798330Z"
    }
   },
   "outputs": [
    {
     "name": "stdout",
     "output_type": "stream",
     "text": [
      "Found 80800 images belonging to 101 classes.\n"
     ]
    }
   ],
   "source": [
    "# Training and Validation Generators\n",
    "train_generator = train_datagen.flow_from_directory(\n",
    "    base_dir,\n",
    "    target_size=IMG_SIZE,\n",
    "    batch_size=BATCH_SIZE,\n",
    "    class_mode='categorical',\n",
    "    subset='training'\n",
    ")"
   ]
  },
  {
   "cell_type": "code",
   "execution_count": 7,
   "metadata": {
    "execution": {
     "iopub.execute_input": "2024-12-23T10:01:22.643982Z",
     "iopub.status.busy": "2024-12-23T10:01:22.643719Z",
     "iopub.status.idle": "2024-12-23T10:01:23.756061Z",
     "shell.execute_reply": "2024-12-23T10:01:23.755437Z",
     "shell.execute_reply.started": "2024-12-23T10:01:22.643949Z"
    }
   },
   "outputs": [
    {
     "name": "stdout",
     "output_type": "stream",
     "text": [
      "Found 20200 images belonging to 101 classes.\n"
     ]
    }
   ],
   "source": [
    "val_generator = train_datagen.flow_from_directory(\n",
    "    base_dir,\n",
    "    target_size=IMG_SIZE,\n",
    "    batch_size=BATCH_SIZE,\n",
    "    class_mode='categorical',\n",
    "    subset='validation'\n",
    ")"
   ]
  },
  {
   "cell_type": "code",
   "execution_count": 8,
   "metadata": {
    "execution": {
     "iopub.execute_input": "2024-12-23T10:01:23.757138Z",
     "iopub.status.busy": "2024-12-23T10:01:23.756864Z",
     "iopub.status.idle": "2024-12-23T10:01:25.619148Z",
     "shell.execute_reply": "2024-12-23T10:01:25.618278Z",
     "shell.execute_reply.started": "2024-12-23T10:01:23.757118Z"
    }
   },
   "outputs": [
    {
     "name": "stdout",
     "output_type": "stream",
     "text": [
      "Downloading data from https://storage.googleapis.com/tensorflow/keras-applications/mobilenet_v2/mobilenet_v2_weights_tf_dim_ordering_tf_kernels_1.0_224_no_top.h5\n",
      "\u001b[1m9406464/9406464\u001b[0m \u001b[32m━━━━━━━━━━━━━━━━━━━━\u001b[0m\u001b[37m\u001b[0m \u001b[1m0s\u001b[0m 0us/step\n"
     ]
    }
   ],
   "source": [
    "# Step 2: Model Development\n",
    "base_model = tf.keras.applications.MobileNetV2(input_shape=(224, 224, 3), include_top=False, weights='imagenet')\n",
    "base_model.trainable = False  # Freeze base model"
   ]
  },
  {
   "cell_type": "code",
   "execution_count": 9,
   "metadata": {
    "execution": {
     "iopub.execute_input": "2024-12-23T10:01:25.620164Z",
     "iopub.status.busy": "2024-12-23T10:01:25.619913Z",
     "iopub.status.idle": "2024-12-23T10:01:25.629527Z",
     "shell.execute_reply": "2024-12-23T10:01:25.628727Z",
     "shell.execute_reply.started": "2024-12-23T10:01:25.620144Z"
    }
   },
   "outputs": [],
   "source": [
    "model = models.Sequential([\n",
    "    base_model,\n",
    "    layers.GlobalAveragePooling2D(),\n",
    "    layers.Dropout(0.2),\n",
    "    layers.Dense(101, activation='softmax')  # 101 classes in Food-101 dataset\n",
    "])"
   ]
  },
  {
   "cell_type": "code",
   "execution_count": 10,
   "metadata": {
    "execution": {
     "iopub.execute_input": "2024-12-23T10:01:25.631725Z",
     "iopub.status.busy": "2024-12-23T10:01:25.631452Z",
     "iopub.status.idle": "2024-12-23T10:01:25.831865Z",
     "shell.execute_reply": "2024-12-23T10:01:25.830978Z",
     "shell.execute_reply.started": "2024-12-23T10:01:25.631694Z"
    }
   },
   "outputs": [],
   "source": [
    "# Compile the model\n",
    "model.compile(optimizer='adam',\n",
    "              loss='categorical_crossentropy',\n",
    "              metrics=['accuracy'])"
   ]
  },
  {
   "cell_type": "code",
   "execution_count": 10,
   "metadata": {
    "execution": {
     "iopub.execute_input": "2024-12-23T05:53:45.351492Z",
     "iopub.status.busy": "2024-12-23T05:53:45.351308Z",
     "iopub.status.idle": "2024-12-23T08:52:35.753412Z",
     "shell.execute_reply": "2024-12-23T08:52:35.752517Z",
     "shell.execute_reply.started": "2024-12-23T05:53:45.351475Z"
    }
   },
   "outputs": [
    {
     "name": "stdout",
     "output_type": "stream",
     "text": [
      "Epoch 1/10\n"
     ]
    },
    {
     "name": "stderr",
     "output_type": "stream",
     "text": [
      "/usr/local/lib/python3.10/dist-packages/keras/src/trainers/data_adapters/py_dataset_adapter.py:121: UserWarning: Your `PyDataset` class should call `super().__init__(**kwargs)` in its constructor. `**kwargs` can include `workers`, `use_multiprocessing`, `max_queue_size`. Do not pass these arguments to `fit()`, as they will be ignored.\n",
      "  self._warn_if_super_not_called()\n"
     ]
    },
    {
     "name": "stdout",
     "output_type": "stream",
     "text": [
      "\u001b[1m2525/2525\u001b[0m \u001b[32m━━━━━━━━━━━━━━━━━━━━\u001b[0m\u001b[37m\u001b[0m \u001b[1m1095s\u001b[0m 429ms/step - accuracy: 0.3183 - loss: 2.9303 - val_accuracy: 0.4767 - val_loss: 2.1325\n",
      "Epoch 2/10\n",
      "\u001b[1m2525/2525\u001b[0m \u001b[32m━━━━━━━━━━━━━━━━━━━━\u001b[0m\u001b[37m\u001b[0m \u001b[1m1076s\u001b[0m 425ms/step - accuracy: 0.4713 - loss: 2.1409 - val_accuracy: 0.4980 - val_loss: 2.0589\n",
      "Epoch 3/10\n",
      "\u001b[1m2525/2525\u001b[0m \u001b[32m━━━━━━━━━━━━━━━━━━━━\u001b[0m\u001b[37m\u001b[0m \u001b[1m1072s\u001b[0m 424ms/step - accuracy: 0.4858 - loss: 2.0915 - val_accuracy: 0.4980 - val_loss: 2.0578\n",
      "Epoch 4/10\n",
      "\u001b[1m2525/2525\u001b[0m \u001b[32m━━━━━━━━━━━━━━━━━━━━\u001b[0m\u001b[37m\u001b[0m \u001b[1m1070s\u001b[0m 423ms/step - accuracy: 0.5009 - loss: 2.0316 - val_accuracy: 0.5042 - val_loss: 2.0217\n",
      "Epoch 5/10\n",
      "\u001b[1m2525/2525\u001b[0m \u001b[32m━━━━━━━━━━━━━━━━━━━━\u001b[0m\u001b[37m\u001b[0m \u001b[1m1067s\u001b[0m 422ms/step - accuracy: 0.5002 - loss: 2.0302 - val_accuracy: 0.5002 - val_loss: 2.0531\n",
      "Epoch 6/10\n",
      "\u001b[1m2525/2525\u001b[0m \u001b[32m━━━━━━━━━━━━━━━━━━━━\u001b[0m\u001b[37m\u001b[0m \u001b[1m1071s\u001b[0m 423ms/step - accuracy: 0.5006 - loss: 2.0260 - val_accuracy: 0.5009 - val_loss: 2.0604\n",
      "Epoch 7/10\n",
      "\u001b[1m2525/2525\u001b[0m \u001b[32m━━━━━━━━━━━━━━━━━━━━\u001b[0m\u001b[37m\u001b[0m \u001b[1m1065s\u001b[0m 421ms/step - accuracy: 0.5031 - loss: 2.0132 - val_accuracy: 0.4982 - val_loss: 2.0888\n",
      "Epoch 8/10\n",
      "\u001b[1m2525/2525\u001b[0m \u001b[32m━━━━━━━━━━━━━━━━━━━━\u001b[0m\u001b[37m\u001b[0m \u001b[1m1072s\u001b[0m 424ms/step - accuracy: 0.5054 - loss: 2.0025 - val_accuracy: 0.5075 - val_loss: 2.0339\n",
      "Epoch 9/10\n",
      "\u001b[1m2525/2525\u001b[0m \u001b[32m━━━━━━━━━━━━━━━━━━━━\u001b[0m\u001b[37m\u001b[0m \u001b[1m1075s\u001b[0m 425ms/step - accuracy: 0.5028 - loss: 2.0239 - val_accuracy: 0.5071 - val_loss: 2.0364\n",
      "Epoch 10/10\n",
      "\u001b[1m2525/2525\u001b[0m \u001b[32m━━━━━━━━━━━━━━━━━━━━\u001b[0m\u001b[37m\u001b[0m \u001b[1m1065s\u001b[0m 421ms/step - accuracy: 0.5023 - loss: 2.0193 - val_accuracy: 0.4978 - val_loss: 2.0901\n"
     ]
    }
   ],
   "source": [
    "# Step 3: Training\n",
    "history = model.fit(\n",
    "    train_generator,\n",
    "    validation_data=val_generator,\n",
    "    epochs=10\n",
    ")"
   ]
  },
  {
   "cell_type": "code",
   "execution_count": 11,
   "metadata": {
    "execution": {
     "iopub.execute_input": "2024-12-23T08:57:07.443184Z",
     "iopub.status.busy": "2024-12-23T08:57:07.442800Z",
     "iopub.status.idle": "2024-12-23T08:57:07.679971Z",
     "shell.execute_reply": "2024-12-23T08:57:07.679202Z",
     "shell.execute_reply.started": "2024-12-23T08:57:07.443157Z"
    }
   },
   "outputs": [],
   "source": [
    "# Save the model\n",
    "model.save('food_classifier_model.h5')"
   ]
  },
  {
   "cell_type": "code",
   "execution_count": 12,
   "metadata": {
    "execution": {
     "iopub.execute_input": "2024-12-23T08:58:39.448495Z",
     "iopub.status.busy": "2024-12-23T08:58:39.448154Z",
     "iopub.status.idle": "2024-12-23T08:58:39.455278Z",
     "shell.execute_reply": "2024-12-23T08:58:39.454328Z",
     "shell.execute_reply.started": "2024-12-23T08:58:39.448472Z"
    }
   },
   "outputs": [
    {
     "data": {
      "text/plain": [
       "'/kaggle/working/food_classifier_model.h5'"
      ]
     },
     "execution_count": 12,
     "metadata": {},
     "output_type": "execute_result"
    }
   ],
   "source": [
    "import shutil\n",
    "shutil.move('food_classifier_model.h5', '/kaggle/working/food_classifier_model.h5')\n"
   ]
  },
  {
   "cell_type": "code",
   "execution_count": 13,
   "metadata": {
    "execution": {
     "iopub.execute_input": "2024-12-23T08:59:17.348353Z",
     "iopub.status.busy": "2024-12-23T08:59:17.348069Z",
     "iopub.status.idle": "2024-12-23T08:59:17.577936Z",
     "shell.execute_reply": "2024-12-23T08:59:17.577130Z",
     "shell.execute_reply.started": "2024-12-23T08:59:17.348331Z"
    }
   },
   "outputs": [
    {
     "data": {
      "image/png": "[encoded data removed]",
      "text/plain": [
       "<Figure size 640x480 with 1 Axes>"
      ]
     },
     "metadata": {},
     "output_type": "display_data"
    }
   ],
   "source": [
    "# Step 4: Visualization of Training Results\n",
    "plt.plot(history.history['accuracy'], label='accuracy')\n",
    "plt.plot(history.history['val_accuracy'], label = 'val_accuracy')\n",
    "plt.xlabel('Epoch')\n",
    "plt.ylabel('Accuracy')\n",
    "plt.ylim([0, 1])\n",
    "plt.legend(loc='lower right')\n",
    "plt.show()"
   ]
  },
  {
   "cell_type": "code",
   "execution_count": 14,
   "metadata": {
    "execution": {
     "iopub.execute_input": "2024-12-23T09:14:42.859964Z",
     "iopub.status.busy": "2024-12-23T09:14:42.859579Z",
     "iopub.status.idle": "2024-12-23T09:14:43.066237Z",
     "shell.execute_reply": "2024-12-23T09:14:43.065573Z",
     "shell.execute_reply.started": "2024-12-23T09:14:42.859934Z"
    }
   },
   "outputs": [],
   "source": [
    "model.save('food_classifier_model2.h5', save_format='h5')\n"
   ]
  },
  {
   "cell_type": "code",
   "execution_count": 15,
   "metadata": {
    "execution": {
     "iopub.execute_input": "2024-12-23T09:14:59.062379Z",
     "iopub.status.busy": "2024-12-23T09:14:59.062089Z",
     "iopub.status.idle": "2024-12-23T09:14:59.067409Z",
     "shell.execute_reply": "2024-12-23T09:14:59.066620Z",
     "shell.execute_reply.started": "2024-12-23T09:14:59.062357Z"
    }
   },
   "outputs": [
    {
     "data": {
      "text/plain": [
       "'/kaggle/working/food_classifier_model2.h5'"
      ]
     },
     "execution_count": 15,
     "metadata": {},
     "output_type": "execute_result"
    }
   ],
   "source": [
    "shutil.move('food_classifier_model2.h5', '/kaggle/working/food_classifier_model2.h5')\n"
   ]
  },
  {
   "cell_type": "code",
   "execution_count": 11,
   "metadata": {
    "execution": {
     "iopub.execute_input": "2024-12-23T10:01:25.833127Z",
     "iopub.status.busy": "2024-12-23T10:01:25.832801Z",
     "iopub.status.idle": "2024-12-23T12:23:16.683259Z",
     "shell.execute_reply": "2024-12-23T12:23:16.682490Z",
     "shell.execute_reply.started": "2024-12-23T10:01:25.833097Z"
    }
   },
   "outputs": [
    {
     "name": "stdout",
     "output_type": "stream",
     "text": [
      "Epoch 1/50\n"
     ]
    },
    {
     "name": "stderr",
     "output_type": "stream",
     "text": [
      "/usr/local/lib/python3.10/dist-packages/keras/src/trainers/data_adapters/py_dataset_adapter.py:121: UserWarning: Your `PyDataset` class should call `super().__init__(**kwargs)` in its constructor. `**kwargs` can include `workers`, `use_multiprocessing`, `max_queue_size`. Do not pass these arguments to `fit()`, as they will be ignored.\n",
      "  self._warn_if_super_not_called()\n"
     ]
    },
    {
     "name": "stdout",
     "output_type": "stream",
     "text": [
      "\u001b[1m2525/2525\u001b[0m \u001b[32m━━━━━━━━━━━━━━━━━━━━\u001b[0m\u001b[37m\u001b[0m \u001b[1m1093s\u001b[0m 427ms/step - accuracy: 0.3187 - loss: 2.9393 - val_accuracy: 0.4824 - val_loss: 2.0978\n",
      "Epoch 2/50\n",
      "\u001b[1m2525/2525\u001b[0m \u001b[32m━━━━━━━━━━━━━━━━━━━━\u001b[0m\u001b[37m\u001b[0m \u001b[1m1059s\u001b[0m 419ms/step - accuracy: 0.4687 - loss: 2.1637 - val_accuracy: 0.4934 - val_loss: 2.0661\n",
      "Epoch 3/50\n",
      "\u001b[1m2525/2525\u001b[0m \u001b[32m━━━━━━━━━━━━━━━━━━━━\u001b[0m\u001b[37m\u001b[0m \u001b[1m1066s\u001b[0m 421ms/step - accuracy: 0.4894 - loss: 2.0718 - val_accuracy: 0.5059 - val_loss: 2.0238\n",
      "Epoch 4/50\n",
      "\u001b[1m2525/2525\u001b[0m \u001b[32m━━━━━━━━━━━━━━━━━━━━\u001b[0m\u001b[37m\u001b[0m \u001b[1m1063s\u001b[0m 420ms/step - accuracy: 0.4957 - loss: 2.0439 - val_accuracy: 0.4998 - val_loss: 2.0385\n",
      "Epoch 5/50\n",
      "\u001b[1m2525/2525\u001b[0m \u001b[32m━━━━━━━━━━━━━━━━━━━━\u001b[0m\u001b[37m\u001b[0m \u001b[1m1060s\u001b[0m 419ms/step - accuracy: 0.4953 - loss: 2.0481 - val_accuracy: 0.5098 - val_loss: 2.0445\n",
      "Epoch 6/50\n",
      "\u001b[1m2525/2525\u001b[0m \u001b[32m━━━━━━━━━━━━━━━━━━━━\u001b[0m\u001b[37m\u001b[0m \u001b[1m1059s\u001b[0m 418ms/step - accuracy: 0.4990 - loss: 2.0333 - val_accuracy: 0.5017 - val_loss: 2.0533\n",
      "Epoch 7/50\n",
      "\u001b[1m2525/2525\u001b[0m \u001b[32m━━━━━━━━━━━━━━━━━━━━\u001b[0m\u001b[37m\u001b[0m \u001b[1m1057s\u001b[0m 418ms/step - accuracy: 0.5064 - loss: 2.0107 - val_accuracy: 0.5036 - val_loss: 2.0606\n",
      "Epoch 8/50\n",
      "\u001b[1m2525/2525\u001b[0m \u001b[32m━━━━━━━━━━━━━━━━━━━━\u001b[0m\u001b[37m\u001b[0m \u001b[1m1053s\u001b[0m 416ms/step - accuracy: 0.5045 - loss: 2.0097 - val_accuracy: 0.5075 - val_loss: 2.0664\n"
     ]
    }
   ],
   "source": [
    "from tensorflow.keras.callbacks import EarlyStopping\n",
    "\n",
    "early_stopping = EarlyStopping(monitor='val_loss', patience=5, restore_best_weights=True)\n",
    "\n",
    "history = model.fit(\n",
    "    train_generator,\n",
    "    validation_data=val_generator,\n",
    "    epochs=50,\n",
    "    callbacks=[early_stopping]\n",
    ")\n"
   ]
  },
  {
   "cell_type": "code",
   "execution_count": null,
   "metadata": {},
   "outputs": [],
   "source": []
  }
 ],
 "metadata": {
  "kaggle": {
   "accelerator": "nvidiaTeslaT4",
   "dataSources": [],
   "dockerImageVersionId": 30823,
   "isGpuEnabled": true,
   "isInternetEnabled": true,
   "language": "python",
   "sourceType": "notebook"
  },
  "kernelspec": {
   "display_name": "Python 3 (ipykernel)",
   "language": "python",
   "name": "python3"
  },
  "language_info": {
   "codemirror_mode": {
    "name": "ipython",
    "version": 3
   },
   "file_extension": ".py",
   "mimetype": "text/x-python",
   "name": "python",
   "nbconvert_exporter": "python",
   "pygments_lexer": "ipython3",
   "version": "3.12.4"
  }
 },
 "nbformat": 4,
 "nbformat_minor": 4
}
